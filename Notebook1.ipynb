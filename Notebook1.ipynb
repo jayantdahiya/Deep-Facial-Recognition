{
  "nbformat": 4,
  "nbformat_minor": 0,
  "metadata": {
    "colab": {
      "name": "Notebook1.ipynb",
      "provenance": [],
      "collapsed_sections": [],
      "mount_file_id": "1pzn3wxOOGfnD3GtaPbhT2DPmZwkOJryg",
      "authorship_tag": "ABX9TyNTBZh5tbWuRY0vSK5NnOcd",
      "include_colab_link": true
    },
    "kernelspec": {
      "name": "python3",
      "display_name": "Python 3"
    },
    "language_info": {
      "name": "python"
    },
    "accelerator": "GPU"
  },
  "cells": [
    {
      "cell_type": "markdown",
      "metadata": {
        "id": "view-in-github",
        "colab_type": "text"
      },
      "source": [
        "<a href=\"https://colab.research.google.com/github/jayantdahiya/Deep-Facial-Recognition/blob/main/Notebook1.ipynb\" target=\"_parent\"><img src=\"https://colab.research.google.com/assets/colab-badge.svg\" alt=\"Open In Colab\"/></a>"
      ]
    },
    {
      "cell_type": "code",
      "execution_count": 1,
      "metadata": {
        "id": "juzYjK0sdWJT"
      },
      "outputs": [],
      "source": [
        "# !pip install tensorflow==2.4.1 tensorflow-gpu==2.4.1 opencv-python matplotlib"
      ]
    },
    {
      "cell_type": "code",
      "source": [
        "import cv2\n",
        "import os\n",
        "import numpy as np\n",
        "from matplotlib import pyplot as plt"
      ],
      "metadata": {
        "id": "0nTrSV3rgyNe"
      },
      "execution_count": 2,
      "outputs": []
    },
    {
      "cell_type": "code",
      "source": [
        "from tensorflow.keras.models import Model\n",
        "from tensorflow.keras.layers import Layer, Conv2D, Dense, MaxPooling2D, Input, Flatten\n",
        "import tensorflow as tf"
      ],
      "metadata": {
        "id": "w4jqphC0hqTy"
      },
      "execution_count": 3,
      "outputs": []
    },
    {
      "cell_type": "code",
      "source": [
        "POS_PATH = os.path.join('/content/drive/MyDrive/Colab/Deep-Facial-Recognition-Application/data', '/content/drive/MyDrive/Colab/Deep-Facial-Recognition-Application/data/positive')\n",
        "NEG_PATH = os.path.join('/content/drive/MyDrive/Colab/Deep-Facial-Recognition-Application/data', '/content/drive/MyDrive/Colab/Deep-Facial-Recognition-Application/data/negative')\n",
        "ANC_PATH = os.path.join('/content/drive/MyDrive/Colab/Deep-Facial-Recognition-Application/data', '/content/drive/MyDrive/Colab/Deep-Facial-Recognition-Application/data/anchor')\n",
        "# os.makedirs(POS_PATH)\n",
        "# os.makedirs(NEG_PATH)\n",
        "# os.makedirs(ANC_PATH)"
      ],
      "metadata": {
        "id": "BCr3O3kJs7Qc"
      },
      "execution_count": 4,
      "outputs": []
    },
    {
      "cell_type": "code",
      "source": [
        "# for directory in os.listdir('/content/drive/MyDrive/Colab/Deep-Facial-Recognition-Application/lfw'):\n",
        "#   for file in os.listdir(os.path.join('/content/drive/MyDrive/Colab/Deep-Facial-Recognition-Application/lfw', directory)):\n",
        "#     EX_PATH = os.path.join('/content/drive/MyDrive/Colab/Deep-Facial-Recognition-Application/lfw', directory, file)\n",
        "#     NEW_PATH = os.path.join(NEG_PATH, file)\n",
        "#     os.replace(EX_PATH, NEW_PATH)"
      ],
      "metadata": {
        "id": "nykOjSQG_vCg"
      },
      "execution_count": 5,
      "outputs": []
    },
    {
      "cell_type": "code",
      "source": [
        "#Getting image directory\n",
        "anchor = tf.data.Dataset.list_files(ANC_PATH+'/*.jpg').take(300)\n",
        "positive = tf.data.Dataset.list_files(POS_PATH+'/*.jpg').take(300)\n",
        "negative = tf.data.Dataset.list_files(NEG_PATH+'/*.jpg').take(300)\n"
      ],
      "metadata": {
        "id": "a97wUv4QC4cb"
      },
      "execution_count": 6,
      "outputs": []
    },
    {
      "cell_type": "code",
      "source": [
        "dir_test = anchor.as_numpy_iterator()"
      ],
      "metadata": {
        "id": "nRWD1hKa2VqC"
      },
      "execution_count": 7,
      "outputs": []
    },
    {
      "cell_type": "code",
      "source": [
        "print(dir_test.next())"
      ],
      "metadata": {
        "colab": {
          "base_uri": "https://localhost:8080/"
        },
        "id": "WLvu9g9rv31k",
        "outputId": "32fe1cb5-52fa-4c4c-a58c-ea166df30416"
      },
      "execution_count": 8,
      "outputs": [
        {
          "output_type": "stream",
          "name": "stdout",
          "text": [
            "b'/content/drive/MyDrive/Colab/Deep-Facial-Recognition-Application/data/anchor/68b58f0a-70da-11ec-882c-cae6cca50a85.jpg'\n"
          ]
        }
      ]
    },
    {
      "cell_type": "code",
      "source": [
        "#function to decode image with values between 0 and 1\n",
        "def preprocess(file_path):\n",
        "  byte_img = tf.io.read_file(file_path)\n",
        "  img = tf.io.decode_jpeg(byte_img)\n",
        "  img = tf.image.resize(img, (100,100))\n",
        "  img = img/255.0\n",
        "  return img"
      ],
      "metadata": {
        "id": "KEHJjBXIv7SR"
      },
      "execution_count": 9,
      "outputs": []
    },
    {
      "cell_type": "code",
      "source": [
        "positives = tf.data.Dataset.zip((anchor, positive, tf.data.Dataset.from_tensor_slices(tf.ones(len(anchor)))))\n",
        "negatives = tf.data.Dataset.zip((anchor, negative, tf.data.Dataset.from_tensor_slices(tf.zeros(len(anchor)))))\n",
        "data = positives.concatenate(negatives)"
      ],
      "metadata": {
        "id": "K862QPaDv9j5"
      },
      "execution_count": 10,
      "outputs": []
    },
    {
      "cell_type": "code",
      "source": [
        "data"
      ],
      "metadata": {
        "colab": {
          "base_uri": "https://localhost:8080/"
        },
        "id": "q8g4s0pj5bid",
        "outputId": "0c2cbb4e-867c-4681-ec10-c990223cad83"
      },
      "execution_count": 11,
      "outputs": [
        {
          "output_type": "execute_result",
          "data": {
            "text/plain": [
              "<ConcatenateDataset shapes: ((), (), ()), types: (tf.string, tf.string, tf.float32)>"
            ]
          },
          "metadata": {},
          "execution_count": 11
        }
      ]
    },
    {
      "cell_type": "code",
      "source": [
        "sample = data.as_numpy_iterator()\n",
        "example = sample.next()\n",
        "example"
      ],
      "metadata": {
        "colab": {
          "base_uri": "https://localhost:8080/"
        },
        "id": "wEqmF9_yAIsR",
        "outputId": "9c91c9da-daed-434c-82da-ac7cddb6d1eb"
      },
      "execution_count": 12,
      "outputs": [
        {
          "output_type": "execute_result",
          "data": {
            "text/plain": [
              "(b'/content/drive/MyDrive/Colab/Deep-Facial-Recognition-Application/data/anchor/45f40afa-70da-11ec-882c-cae6cca50a85.jpg',\n",
              " b'/content/drive/MyDrive/Colab/Deep-Facial-Recognition-Application/data/positive/ae344828-70da-11ec-882c-cae6cca50a85.jpg',\n",
              " 1.0)"
            ]
          },
          "metadata": {},
          "execution_count": 12
        }
      ]
    },
    {
      "cell_type": "code",
      "source": [
        "def preprocess_twin(input_img, validation_img, label):\n",
        "  return(preprocess(input_img), preprocess(validation_img), label)"
      ],
      "metadata": {
        "id": "Gp8RZB3Y5vDL"
      },
      "execution_count": 13,
      "outputs": []
    },
    {
      "cell_type": "code",
      "source": [
        "res = preprocess_twin(*example)"
      ],
      "metadata": {
        "id": "gGAADc9kACBA"
      },
      "execution_count": 14,
      "outputs": []
    },
    {
      "cell_type": "code",
      "source": [
        "plt.imshow(res[1])"
      ],
      "metadata": {
        "colab": {
          "base_uri": "https://localhost:8080/",
          "height": 285
        },
        "id": "sbJuJxt_AdDg",
        "outputId": "684ccfef-d3ce-4cb8-e356-1d6d05e7ba60"
      },
      "execution_count": 15,
      "outputs": [
        {
          "output_type": "execute_result",
          "data": {
            "text/plain": [
              "<matplotlib.image.AxesImage at 0x7f68c0585ad0>"
            ]
          },
          "metadata": {},
          "execution_count": 15
        },
        {
          "output_type": "display_data",
          "data": {
            "image/png": "[encoded data removed]",
            "text/plain": [
              "<Figure size 432x288 with 1 Axes>"
            ]
          },
          "metadata": {
            "needs_background": "light"
          }
        }
      ]
    },
    {
      "cell_type": "code",
      "source": [
        "#Data pipeline \n",
        "data = data.map(preprocess_twin)\n",
        "data = data.cache()\n",
        "data = data.shuffle(buffer_size = 1024)"
      ],
      "metadata": {
        "id": "BF8ULtzYAiM6"
      },
      "execution_count": 16,
      "outputs": []
    },
    {
      "cell_type": "code",
      "source": [
        "samples=data.as_numpy_iterator()"
      ],
      "metadata": {
        "id": "4GkumT3JCKuf"
      },
      "execution_count": 17,
      "outputs": []
    },
    {
      "cell_type": "code",
      "source": [
        "#Training partition\n",
        "train_data = data.take(round(len(data)*.7))\n",
        "train_data = train_data.batch(16)\n",
        "train_data = train_data.prefetch(8)"
      ],
      "metadata": {
        "id": "qGJBgTQlEBrK"
      },
      "execution_count": 18,
      "outputs": []
    },
    {
      "cell_type": "code",
      "source": [
        "train_samples = train_data.as_numpy_iterator()"
      ],
      "metadata": {
        "id": "DgkbcZGmFcAN"
      },
      "execution_count": 19,
      "outputs": []
    },
    {
      "cell_type": "code",
      "source": [
        "train_sample = train_samples.next()"
      ],
      "metadata": {
        "id": "TnapSrNiFoC-"
      },
      "execution_count": 20,
      "outputs": []
    },
    {
      "cell_type": "code",
      "source": [
        "len(train_sample)"
      ],
      "metadata": {
        "colab": {
          "base_uri": "https://localhost:8080/"
        },
        "id": "QFUtVSzWFry6",
        "outputId": "db17916a-ab06-4f09-c6d9-95b809be35ef"
      },
      "execution_count": 21,
      "outputs": [
        {
          "output_type": "execute_result",
          "data": {
            "text/plain": [
              "3"
            ]
          },
          "metadata": {},
          "execution_count": 21
        }
      ]
    },
    {
      "cell_type": "code",
      "source": [
        "train_sample"
      ],
      "metadata": {
        "colab": {
          "base_uri": "https://localhost:8080/"
        },
        "id": "gcMQ-3P0FwOy",
        "outputId": "dcfda5e6-f588-4fdf-e11b-a66e1b1d19a5"
      },
      "execution_count": 22,
      "outputs": [
        {
          "output_type": "execute_result",
          "data": {
            "text/plain": [
              "(array([[[[0.88186276, 0.8485294 , 0.7985294 ],\n",
              "          [0.72083336, 0.7002451 , 0.6610294 ],\n",
              "          [0.49656862, 0.4612745 , 0.42794117],\n",
              "          ...,\n",
              "          [0.36936274, 0.34877452, 0.3625    ],\n",
              "          [0.39828432, 0.36593136, 0.37083334],\n",
              "          [0.40857843, 0.36936274, 0.36544117]],\n",
              " \n",
              "         [[0.8872549 , 0.8539216 , 0.8039216 ],\n",
              "          [0.6987745 , 0.6723039 , 0.6281863 ],\n",
              "          [0.47401962, 0.4377451 , 0.40392157],\n",
              "          ...,\n",
              "          [0.34436274, 0.32647058, 0.3392157 ],\n",
              "          [0.39803922, 0.36838236, 0.37230393],\n",
              "          [0.39313725, 0.3617647 , 0.35392156]],\n",
              " \n",
              "         [[0.89142156, 0.8522059 , 0.80514705],\n",
              "          [0.71593136, 0.68259805, 0.64142156],\n",
              "          [0.46862745, 0.42058823, 0.38602942],\n",
              "          ...,\n",
              "          [0.32671568, 0.31691176, 0.32671568],\n",
              "          [0.36617646, 0.34460783, 0.34558824],\n",
              "          [0.39313725, 0.35882354, 0.35980392]],\n",
              " \n",
              "         ...,\n",
              " \n",
              "         [[0.10294118, 0.14019608, 0.12745099],\n",
              "          [0.08455882, 0.12671569, 0.11397059],\n",
              "          [0.14338236, 0.18259804, 0.17867647],\n",
              "          ...,\n",
              "          [0.35220587, 0.3492647 , 0.31838235],\n",
              "          [0.4240196 , 0.40931374, 0.3754902 ],\n",
              "          [0.3022059 , 0.2747549 , 0.24338235]],\n",
              " \n",
              "         [[0.12205882, 0.16519608, 0.1495098 ],\n",
              "          [0.10416666, 0.14632353, 0.13357843],\n",
              "          [0.1264706 , 0.16568628, 0.16176471],\n",
              "          ...,\n",
              "          [0.26691177, 0.25661764, 0.22647059],\n",
              "          [0.29656863, 0.28112745, 0.24583334],\n",
              "          [0.28284314, 0.25539216, 0.21813725]],\n",
              " \n",
              "         [[0.11299019, 0.15612745, 0.14044118],\n",
              "          [0.11691176, 0.15906863, 0.14632353],\n",
              "          [0.1392157 , 0.17843138, 0.17450981],\n",
              "          ...,\n",
              "          [0.26642156, 0.25367647, 0.21838236],\n",
              "          [0.30416667, 0.2884804 , 0.24730392],\n",
              "          [0.33137256, 0.30392158, 0.2647059 ]]],\n",
              " \n",
              " \n",
              "        [[[0.83235294, 0.82843137, 0.7558824 ],\n",
              "          [0.6610294 , 0.6311275 , 0.595098  ],\n",
              "          [0.5887255 , 0.55490196, 0.5448529 ],\n",
              "          ...,\n",
              "          [0.3762255 , 0.35661766, 0.33308825],\n",
              "          [0.3735294 , 0.35392156, 0.33039215],\n",
              "          [0.36593136, 0.35416666, 0.32671568]],\n",
              " \n",
              "         [[0.7877451 , 0.78382355, 0.7117647 ],\n",
              "          [0.64485294, 0.6308824 , 0.5894608 ],\n",
              "          [0.5323529 , 0.5183824 , 0.50465685],\n",
              "          ...,\n",
              "          [0.3879902 , 0.36838236, 0.34485295],\n",
              "          [0.3764706 , 0.35686275, 0.33333334],\n",
              "          [0.37230393, 0.36053923, 0.33308825]],\n",
              " \n",
              "         [[0.7848039 , 0.7772059 , 0.7176471 ],\n",
              "          [0.6394608 , 0.6387255 , 0.6       ],\n",
              "          [0.47549018, 0.4884804 , 0.47181374],\n",
              "          ...,\n",
              "          [0.38897058, 0.36936274, 0.34583333],\n",
              "          [0.38186276, 0.3622549 , 0.33872548],\n",
              "          [0.36813724, 0.35637254, 0.32892156]],\n",
              " \n",
              "         ...,\n",
              " \n",
              "         [[0.27622548, 0.3115196 , 0.28112745],\n",
              "          [0.2735294 , 0.30980393, 0.2764706 ],\n",
              "          [0.31495097, 0.3512255 , 0.31789216],\n",
              "          ...,\n",
              "          [0.23553921, 0.19411765, 0.16544117],\n",
              "          [0.24460784, 0.20539215, 0.17009804],\n",
              "          [0.23308824, 0.19387256, 0.15857843]],\n",
              " \n",
              "         [[0.17132352, 0.1889706 , 0.18553922],\n",
              "          [0.16568628, 0.18333334, 0.1764706 ],\n",
              "          [0.16053921, 0.18333334, 0.16764706],\n",
              "          ...,\n",
              "          [0.22965686, 0.19044118, 0.15514706],\n",
              "          [0.21691176, 0.17769608, 0.14240196],\n",
              "          [0.23970588, 0.20049019, 0.1622549 ]],\n",
              " \n",
              "         [[0.14093137, 0.1487745 , 0.14485294],\n",
              "          [0.16029412, 0.17009804, 0.16617647],\n",
              "          [0.14068627, 0.1622549 , 0.15539216],\n",
              "          ...,\n",
              "          [0.22254902, 0.17156863, 0.14019608],\n",
              "          [0.2389706 , 0.1879902 , 0.15367647],\n",
              "          [0.2382353 , 0.1872549 , 0.15196079]]],\n",
              " \n",
              " \n",
              "        [[[0.3634804 , 0.3987745 , 0.3870098 ],\n",
              "          [0.33848038, 0.38063726, 0.36789215],\n",
              "          [0.33161765, 0.3767157 , 0.36985293],\n",
              "          ...,\n",
              "          [0.39681372, 0.38504902, 0.3634804 ],\n",
              "          [0.38897058, 0.37720588, 0.3497549 ],\n",
              "          [0.3887255 , 0.37696078, 0.3495098 ]],\n",
              " \n",
              "         [[0.37009802, 0.40539217, 0.39166668],\n",
              "          [0.33995098, 0.38308823, 0.36740196],\n",
              "          [0.3142157 , 0.3602941 , 0.35049018],\n",
              "          ...,\n",
              "          [0.40955883, 0.389951  , 0.37426472],\n",
              "          [0.40122548, 0.38161764, 0.3615196 ],\n",
              "          [0.39754903, 0.3779412 , 0.35441175]],\n",
              " \n",
              "         [[0.35392156, 0.38921568, 0.36960784],\n",
              "          [0.3227941 , 0.36666667, 0.3465686 ],\n",
              "          [0.32205883, 0.36911765, 0.35490197],\n",
              "          ...,\n",
              "          [0.40784314, 0.3882353 , 0.37254903],\n",
              "          [0.42892158, 0.40931374, 0.39362746],\n",
              "          [0.40294117, 0.38333333, 0.35980392]],\n",
              " \n",
              "         ...,\n",
              " \n",
              "         [[0.16078432, 0.16470589, 0.17450981],\n",
              "          [0.18529412, 0.18455882, 0.19460784],\n",
              "          [0.1627451 , 0.15759803, 0.1742647 ],\n",
              "          ...,\n",
              "          [0.46348038, 0.47818628, 0.42622548],\n",
              "          [0.43823528, 0.45588234, 0.4014706 ],\n",
              "          [0.2877451 , 0.29656863, 0.24754901]],\n",
              " \n",
              "         [[0.1742647 , 0.17818627, 0.19387256],\n",
              "          [0.14901961, 0.1504902 , 0.16495098],\n",
              "          [0.14828432, 0.14754902, 0.15759803],\n",
              "          ...,\n",
              "          [0.4242647 , 0.4389706 , 0.39485294],\n",
              "          [0.4522059 , 0.4757353 , 0.4272059 ],\n",
              "          [0.45441177, 0.475     , 0.42892158]],\n",
              " \n",
              "         [[0.13799019, 0.14191176, 0.15759803],\n",
              "          [0.12671569, 0.13063726, 0.14436275],\n",
              "          [0.15318628, 0.15710784, 0.16495098],\n",
              "          ...,\n",
              "          [0.29583332, 0.30441177, 0.26127452],\n",
              "          [0.38504902, 0.39681372, 0.35367647],\n",
              "          [0.42009804, 0.43186274, 0.3887255 ]]],\n",
              " \n",
              " \n",
              "        ...,\n",
              " \n",
              " \n",
              "        [[[0.8757353 , 0.83455884, 0.79338235],\n",
              "          [0.66789216, 0.6375    , 0.6120098 ],\n",
              "          [0.57009804, 0.52892154, 0.5122549 ],\n",
              "          ...,\n",
              "          [0.38284314, 0.3514706 , 0.33970588],\n",
              "          [0.39093137, 0.35955882, 0.34779412],\n",
              "          [0.4127451 , 0.38137254, 0.36960784]],\n",
              " \n",
              "         [[0.8769608 , 0.84411764, 0.7997549 ],\n",
              "          [0.6784314 , 0.6480392 , 0.622549  ],\n",
              "          [0.5772059 , 0.5360294 , 0.51936275],\n",
              "          ...,\n",
              "          [0.41151962, 0.38112745, 0.36642158],\n",
              "          [0.40637255, 0.3759804 , 0.3612745 ],\n",
              "          [0.3870098 , 0.35661766, 0.34191176]],\n",
              " \n",
              "         [[0.8865196 , 0.8625    , 0.8137255 ],\n",
              "          [0.65833336, 0.6279412 , 0.60245097],\n",
              "          [0.5955882 , 0.54632354, 0.532598  ],\n",
              "          ...,\n",
              "          [0.40098038, 0.3735294 , 0.35      ],\n",
              "          [0.40490195, 0.37745097, 0.35392156],\n",
              "          [0.40784314, 0.38039216, 0.35686275]],\n",
              " \n",
              "         ...,\n",
              " \n",
              "         [[0.17303921, 0.17892157, 0.17009804],\n",
              "          [0.1742647 , 0.18014705, 0.17132352],\n",
              "          [0.18970588, 0.19117647, 0.18455882],\n",
              "          ...,\n",
              "          [0.27303922, 0.23382352, 0.18872549],\n",
              "          [0.27132353, 0.2254902 , 0.18848039],\n",
              "          [0.23700981, 0.1889706 , 0.15269607]],\n",
              " \n",
              "         [[0.19338235, 0.19338235, 0.19338235],\n",
              "          [0.17720588, 0.17132352, 0.1742647 ],\n",
              "          [0.15882353, 0.15294118, 0.15588236],\n",
              "          ...,\n",
              "          [0.28455883, 0.24534313, 0.20465687],\n",
              "          [0.25      , 0.21078432, 0.16715686],\n",
              "          [0.25955883, 0.22034314, 0.17524509]],\n",
              " \n",
              "         [[0.15245098, 0.14460784, 0.14852941],\n",
              "          [0.16127451, 0.15343137, 0.15735294],\n",
              "          [0.16838235, 0.16053921, 0.16446078],\n",
              "          ...,\n",
              "          [0.24387255, 0.20465687, 0.16544117],\n",
              "          [0.24044117, 0.20122549, 0.15612745],\n",
              "          [0.2531863 , 0.21397059, 0.16691177]]],\n",
              " \n",
              " \n",
              "        [[[0.32058823, 0.3362745 , 0.34019607],\n",
              "          [0.31495097, 0.33063725, 0.3345588 ],\n",
              "          [0.32696077, 0.34264705, 0.3465686 ],\n",
              "          ...,\n",
              "          [0.38137254, 0.34607843, 0.31862745],\n",
              "          [0.4014706 , 0.36617646, 0.33872548],\n",
              "          [0.38210785, 0.34681374, 0.31936276]],\n",
              " \n",
              "         [[0.31666666, 0.32941177, 0.33431372],\n",
              "          [0.3252451 , 0.3379902 , 0.34289217],\n",
              "          [0.34166667, 0.35441175, 0.35931373],\n",
              "          ...,\n",
              "          [0.39264706, 0.35735294, 0.32990196],\n",
              "          [0.3865196 , 0.3512255 , 0.32377452],\n",
              "          [0.36960784, 0.33431372, 0.30686274]],\n",
              " \n",
              "         [[0.32671568, 0.33063725, 0.33848038],\n",
              "          [0.3389706 , 0.34362745, 0.3492647 ],\n",
              "          [0.32352942, 0.33039215, 0.32941177],\n",
              "          ...,\n",
              "          [0.39362746, 0.35833332, 0.33088234],\n",
              "          [0.38357842, 0.3482843 , 0.32083333],\n",
              "          [0.37990198, 0.34460783, 0.31715685]],\n",
              " \n",
              "         ...,\n",
              " \n",
              "         [[0.09509804, 0.09803922, 0.06666667],\n",
              "          [0.11127451, 0.1127451 , 0.08161765],\n",
              "          [0.20563726, 0.1879902 , 0.16348039],\n",
              "          ...,\n",
              "          [0.2632353 , 0.23872548, 0.17598039],\n",
              "          [0.25882354, 0.22843137, 0.17450981],\n",
              "          [0.23431373, 0.20294118, 0.15196079]],\n",
              " \n",
              "         [[0.13995098, 0.13112745, 0.10269608],\n",
              "          [0.17181373, 0.15416667, 0.12965687],\n",
              "          [0.23063725, 0.20710784, 0.17892157],\n",
              "          ...,\n",
              "          [0.21740197, 0.19509804, 0.1257353 ],\n",
              "          [0.22696078, 0.19877452, 0.1382353 ],\n",
              "          [0.22990195, 0.20147058, 0.14166667]],\n",
              " \n",
              "         [[0.18235295, 0.1627451 , 0.1392157 ],\n",
              "          [0.24632353, 0.21887255, 0.19534314],\n",
              "          [0.24558823, 0.21813725, 0.18872549],\n",
              "          ...,\n",
              "          [0.21911764, 0.19754902, 0.12598039],\n",
              "          [0.23946078, 0.2120098 , 0.14926471],\n",
              "          [0.25465685, 0.22720589, 0.16446078]]],\n",
              " \n",
              " \n",
              "        [[[0.30245098, 0.37303922, 0.37303922],\n",
              "          [0.2735294 , 0.34411764, 0.34411764],\n",
              "          [0.2875    , 0.35808823, 0.35808823],\n",
              "          ...,\n",
              "          [0.3882353 , 0.3529412 , 0.33333334],\n",
              "          [0.3865196 , 0.34534314, 0.32867646],\n",
              "          [0.3867647 , 0.34362745, 0.32794118]],\n",
              " \n",
              "         [[0.26666668, 0.3372549 , 0.3372549 ],\n",
              "          [0.27965686, 0.3502451 , 0.3502451 ],\n",
              "          [0.2757353 , 0.34632352, 0.34632352],\n",
              "          ...,\n",
              "          [0.3877451 , 0.34901962, 0.33259803],\n",
              "          [0.41004902, 0.36691177, 0.3512255 ],\n",
              "          [0.39362746, 0.35049018, 0.32696077]],\n",
              " \n",
              "         [[0.26593137, 0.3394608 , 0.33357844],\n",
              "          [0.26617646, 0.33970588, 0.33382353],\n",
              "          [0.26985294, 0.3367647 , 0.33529413],\n",
              "          ...,\n",
              "          [0.38161764, 0.33848038, 0.3242647 ],\n",
              "          [0.4       , 0.35686275, 0.3367647 ],\n",
              "          [0.39632353, 0.34730393, 0.32377452]],\n",
              " \n",
              "         ...,\n",
              " \n",
              "         [[0.12941177, 0.10686275, 0.12254902],\n",
              "          [0.13259804, 0.11029412, 0.11936274],\n",
              "          [0.15759803, 0.13897058, 0.13995098],\n",
              "          ...,\n",
              "          [0.22254902, 0.18333334, 0.13627452],\n",
              "          [0.21887255, 0.17818627, 0.13112745],\n",
              "          [0.24754901, 0.20049019, 0.15343137]],\n",
              " \n",
              "         [[0.10563725, 0.09485294, 0.10759804],\n",
              "          [0.12279411, 0.11004902, 0.12279411],\n",
              "          [0.12965687, 0.10735294, 0.11642157],\n",
              "          ...,\n",
              "          [0.24681373, 0.20612745, 0.15906863],\n",
              "          [0.1889706 , 0.14240196, 0.09534314],\n",
              "          [0.21960784, 0.17254902, 0.11960784]],\n",
              " \n",
              "         [[0.1622549 , 0.1622549 , 0.17009804],\n",
              "          [0.07745098, 0.06813726, 0.08014706],\n",
              "          [0.10588235, 0.08333334, 0.09901961],\n",
              "          ...,\n",
              "          [0.21151961, 0.17034313, 0.12328431],\n",
              "          [0.2240196 , 0.17696078, 0.12401961],\n",
              "          [0.2529412 , 0.19803922, 0.14705883]]]], dtype=float32),\n",
              " array([[[[0.877451  , 0.87058824, 0.8088235 ],\n",
              "          [0.69264704, 0.67696077, 0.64460784],\n",
              "          [0.5227941 , 0.4870098 , 0.47009805],\n",
              "          ...,\n",
              "          [0.3745098 , 0.34117648, 0.31862745],\n",
              "          [0.39485294, 0.36740196, 0.3360294 ],\n",
              "          [0.39019608, 0.3627451 , 0.33137256]],\n",
              " \n",
              "         [[0.889951  , 0.8727941 , 0.8117647 ],\n",
              "          [0.6970588 , 0.6762255 , 0.64460784],\n",
              "          [0.4879902 , 0.45612746, 0.42892158],\n",
              "          ...,\n",
              "          [0.39632353, 0.3629902 , 0.34044117],\n",
              "          [0.3997549 , 0.37230393, 0.3409314 ],\n",
              "          [0.3852941 , 0.36960784, 0.33235294]],\n",
              " \n",
              "         [[0.902451  , 0.8664216 , 0.80563724],\n",
              "          [0.68333334, 0.6514706 , 0.6164216 ],\n",
              "          [0.4877451 , 0.46029413, 0.43088236],\n",
              "          ...,\n",
              "          [0.39338234, 0.360049  , 0.3375    ],\n",
              "          [0.39411765, 0.3732843 , 0.33970588],\n",
              "          [0.38235295, 0.36666667, 0.32352942]],\n",
              " \n",
              "         ...,\n",
              " \n",
              "         [[0.15661764, 0.19191177, 0.18014705],\n",
              "          [0.13112745, 0.15686275, 0.14828432],\n",
              "          [0.16495098, 0.18848039, 0.18063726],\n",
              "          ...,\n",
              "          [0.3257353 , 0.2990196 , 0.26740196],\n",
              "          [0.33700982, 0.30588236, 0.27058825],\n",
              "          [0.24877451, 0.21053922, 0.17524509]],\n",
              " \n",
              "         [[0.15073529, 0.19191177, 0.17720588],\n",
              "          [0.12671569, 0.16127451, 0.1497549 ],\n",
              "          [0.1360294 , 0.16176471, 0.15318628],\n",
              "          ...,\n",
              "          [0.31740198, 0.30171567, 0.26642156],\n",
              "          [0.3252451 , 0.30808824, 0.2720588 ],\n",
              "          [0.29705882, 0.2617647 , 0.22647059]],\n",
              " \n",
              "         [[0.1254902 , 0.16862746, 0.15294118],\n",
              "          [0.13039216, 0.17156863, 0.15686275],\n",
              "          [0.1384804 , 0.17377451, 0.1620098 ],\n",
              "          ...,\n",
              "          [0.37965685, 0.36789215, 0.33848038],\n",
              "          [0.34313726, 0.33137256, 0.29607844],\n",
              "          [0.32867646, 0.30122548, 0.26985294]]],\n",
              " \n",
              " \n",
              "        [[[0.8745098 , 0.85      , 0.7852941 ],\n",
              "          [0.7257353 , 0.6963235 , 0.66789216],\n",
              "          [0.47132352, 0.42818627, 0.41446078],\n",
              "          ...,\n",
              "          [0.3875    , 0.35710785, 0.34240195],\n",
              "          [0.37916666, 0.35171568, 0.32818627],\n",
              "          [0.3875    , 0.360049  , 0.3365196 ]],\n",
              " \n",
              "         [[0.8666667 , 0.8421569 , 0.7794118 ],\n",
              "          [0.7477941 , 0.71838236, 0.689951  ],\n",
              "          [0.5036765 , 0.45833334, 0.44485295],\n",
              "          ...,\n",
              "          [0.38602942, 0.35857844, 0.33504903],\n",
              "          [0.3762255 , 0.34877452, 0.3252451 ],\n",
              "          [0.3759804 , 0.3485294 , 0.325     ]],\n",
              " \n",
              "         [[0.8713235 , 0.84093136, 0.7870098 ],\n",
              "          [0.7345588 , 0.7031863 , 0.66789216],\n",
              "          [0.4879902 , 0.43676472, 0.41593137],\n",
              "          ...,\n",
              "          [0.38063726, 0.35318628, 0.32965687],\n",
              "          [0.3882353 , 0.36078432, 0.3372549 ],\n",
              "          [0.37745097, 0.35      , 0.32647058]],\n",
              " \n",
              "         ...,\n",
              " \n",
              "         [[0.23235294, 0.26985294, 0.24411765],\n",
              "          [0.30808824, 0.34411764, 0.31642157],\n",
              "          [0.39362746, 0.42303923, 0.39754903],\n",
              "          ...,\n",
              "          [0.23259804, 0.1992647 , 0.1629902 ],\n",
              "          [0.21911764, 0.19166666, 0.15245098],\n",
              "          [0.16642156, 0.13897058, 0.0997549 ]],\n",
              " \n",
              "         [[0.13088235, 0.16911764, 0.16519608],\n",
              "          [0.18259804, 0.21789216, 0.2120098 ],\n",
              "          [0.1872549 , 0.22254902, 0.20882353],\n",
              "          ...,\n",
              "          [0.21151961, 0.17671569, 0.14117648],\n",
              "          [0.1754902 , 0.14215687, 0.10588235],\n",
              "          [0.21960784, 0.18627451, 0.15      ]],\n",
              " \n",
              "         [[0.13063726, 0.16813725, 0.18112744],\n",
              "          [0.11299019, 0.14362745, 0.15759803],\n",
              "          [0.16642156, 0.19779412, 0.20588236],\n",
              "          ...,\n",
              "          [0.23357843, 0.20220588, 0.15906863],\n",
              "          [0.21372549, 0.18235295, 0.1392157 ],\n",
              "          [0.23112746, 0.19975491, 0.15661764]]],\n",
              " \n",
              " \n",
              "        [[[0.26985294, 0.30906862, 0.3129902 ],\n",
              "          [0.30514705, 0.34240195, 0.34730393],\n",
              "          [0.31813726, 0.3495098 , 0.35735294],\n",
              "          ...,\n",
              "          [0.39436275, 0.36691177, 0.34338236],\n",
              "          [0.40808824, 0.3747549 , 0.35416666],\n",
              "          [0.38112745, 0.34583333, 0.3262255 ]],\n",
              " \n",
              "         [[0.27328432, 0.31053922, 0.3154412 ],\n",
              "          [0.3125    , 0.34387255, 0.35171568],\n",
              "          [0.27941176, 0.3115196 , 0.31715685],\n",
              "          ...,\n",
              "          [0.3884804 , 0.36102942, 0.33553922],\n",
              "          [0.39779413, 0.37034315, 0.34485295],\n",
              "          [0.38382354, 0.35637254, 0.33088234]],\n",
              " \n",
              "         [[0.29166666, 0.3142157 , 0.325     ],\n",
              "          [0.29730392, 0.3227941 , 0.33063725],\n",
              "          [0.28970587, 0.3247549 , 0.32156864],\n",
              "          ...,\n",
              "          [0.36666667, 0.3392157 , 0.30784315],\n",
              "          [0.37916666, 0.35171568, 0.32034314],\n",
              "          [0.37892157, 0.3514706 , 0.32009804]],\n",
              " \n",
              "         ...,\n",
              " \n",
              "         [[0.14485294, 0.17132352, 0.15661764],\n",
              "          [0.1382353 , 0.16029412, 0.1487745 ],\n",
              "          [0.14289215, 0.15465686, 0.1504902 ],\n",
              "          ...,\n",
              "          [0.31960785, 0.31666666, 0.28627452],\n",
              "          [0.29142156, 0.2737745 , 0.2492647 ],\n",
              "          [0.24411765, 0.21666667, 0.19313726]],\n",
              " \n",
              "         [[0.13504902, 0.17034313, 0.15857843],\n",
              "          [0.10563725, 0.13578431, 0.12720588],\n",
              "          [0.15588236, 0.17352942, 0.17450981],\n",
              "          ...,\n",
              "          [0.24485295, 0.23382352, 0.21078432],\n",
              "          [0.21887255, 0.19534314, 0.17156863],\n",
              "          [0.27254903, 0.23921569, 0.2127451 ]],\n",
              " \n",
              "         [[0.11078431, 0.14607844, 0.14215687],\n",
              "          [0.13872549, 0.17107843, 0.16813725],\n",
              "          [0.16004902, 0.18357843, 0.18357843],\n",
              "          ...,\n",
              "          [0.23088235, 0.20931372, 0.19166666],\n",
              "          [0.22132353, 0.1879902 , 0.16740195],\n",
              "          [0.2629902 , 0.22769608, 0.2002451 ]]],\n",
              " \n",
              " \n",
              "        ...,\n",
              " \n",
              " \n",
              "        [[[0.8539216 , 0.8245098 , 0.7862745 ],\n",
              "          [0.6227941 , 0.592402  , 0.56691176],\n",
              "          [0.61151963, 0.5644608 , 0.5644608 ],\n",
              "          ...,\n",
              "          [0.39338234, 0.3737745 , 0.3502451 ],\n",
              "          [0.4117647 , 0.38627452, 0.3627451 ],\n",
              "          [0.40882352, 0.38137254, 0.35784313]],\n",
              " \n",
              "         [[0.8620098 , 0.83259803, 0.7943627 ],\n",
              "          [0.5985294 , 0.56789213, 0.5360294 ],\n",
              "          [0.62034315, 0.5713235 , 0.57034314],\n",
              "          ...,\n",
              "          [0.41127452, 0.39166668, 0.37009802],\n",
              "          [0.3987745 , 0.37916666, 0.35759804],\n",
              "          [0.40661764, 0.3781863 , 0.35759804]],\n",
              " \n",
              "         [[0.8926471 , 0.86470586, 0.8257353 ],\n",
              "          [0.5806373 , 0.5492647 , 0.51593137],\n",
              "          [0.60906863, 0.5541667 , 0.5502451 ],\n",
              "          ...,\n",
              "          [0.39632353, 0.3767157 , 0.36102942],\n",
              "          [0.40588236, 0.38627452, 0.37058824],\n",
              "          [0.39044118, 0.36789215, 0.35318628]],\n",
              " \n",
              "         ...,\n",
              " \n",
              "         [[0.0875    , 0.10710784, 0.09142157],\n",
              "          [0.11568628, 0.13455883, 0.12107843],\n",
              "          [0.12279411, 0.13284314, 0.12671569],\n",
              "          ...,\n",
              "          [0.41127452, 0.3345588 , 0.28627452],\n",
              "          [0.46862745, 0.39411765, 0.3362745 ],\n",
              "          [0.44509804, 0.37058824, 0.31176472]],\n",
              " \n",
              "         [[0.10955882, 0.12916666, 0.10759804],\n",
              "          [0.10906862, 0.12867647, 0.11299019],\n",
              "          [0.11715686, 0.13455883, 0.11960784],\n",
              "          ...,\n",
              "          [0.39264706, 0.31813726, 0.2632353 ],\n",
              "          [0.40245098, 0.32794118, 0.2723039 ],\n",
              "          [0.40857843, 0.33406863, 0.27818626]],\n",
              " \n",
              "         [[0.11470588, 0.13431373, 0.11078431],\n",
              "          [0.11617647, 0.13578431, 0.1122549 ],\n",
              "          [0.11740196, 0.1370098 , 0.11348039],\n",
              "          ...,\n",
              "          [0.37990198, 0.30539215, 0.24754901],\n",
              "          [0.3764706 , 0.3019608 , 0.24705882],\n",
              "          [0.3764706 , 0.3019608 , 0.24705882]]],\n",
              " \n",
              " \n",
              "        [[[0.        , 0.        , 0.        ],\n",
              "          [0.        , 0.        , 0.        ],\n",
              "          [0.        , 0.        , 0.        ],\n",
              "          ...,\n",
              "          [0.        , 0.        , 0.        ],\n",
              "          [0.        , 0.        , 0.        ],\n",
              "          [0.        , 0.        , 0.        ]],\n",
              " \n",
              "         [[0.        , 0.        , 0.        ],\n",
              "          [0.        , 0.        , 0.        ],\n",
              "          [0.        , 0.        , 0.        ],\n",
              "          ...,\n",
              "          [0.        , 0.        , 0.        ],\n",
              "          [0.        , 0.        , 0.        ],\n",
              "          [0.        , 0.        , 0.        ]],\n",
              " \n",
              "         [[0.        , 0.        , 0.        ],\n",
              "          [0.        , 0.        , 0.        ],\n",
              "          [0.        , 0.        , 0.        ],\n",
              "          ...,\n",
              "          [0.        , 0.        , 0.        ],\n",
              "          [0.        , 0.        , 0.        ],\n",
              "          [0.        , 0.        , 0.        ]],\n",
              " \n",
              "         ...,\n",
              " \n",
              "         [[0.05196078, 0.05196078, 0.05196078],\n",
              "          [0.05098039, 0.05098039, 0.05098039],\n",
              "          [0.05171569, 0.05171569, 0.05171569],\n",
              "          ...,\n",
              "          [0.03529412, 0.05098039, 0.04705882],\n",
              "          [0.03529412, 0.05098039, 0.04705882],\n",
              "          [0.03529412, 0.05098039, 0.04705882]],\n",
              " \n",
              "         [[0.05490196, 0.05490196, 0.05490196],\n",
              "          [0.05392157, 0.05392157, 0.05392157],\n",
              "          [0.05490196, 0.05490196, 0.05490196],\n",
              "          ...,\n",
              "          [0.0382353 , 0.05392157, 0.05      ],\n",
              "          [0.0382353 , 0.05392157, 0.05      ],\n",
              "          [0.0382353 , 0.05392157, 0.05      ]],\n",
              " \n",
              "         [[0.05490196, 0.05490196, 0.05490196],\n",
              "          [0.05490196, 0.05490196, 0.05490196],\n",
              "          [0.05490196, 0.05490196, 0.05490196],\n",
              "          ...,\n",
              "          [0.03529412, 0.05098039, 0.04705882],\n",
              "          [0.03529412, 0.05098039, 0.04705882],\n",
              "          [0.03529412, 0.05098039, 0.04705882]]],\n",
              " \n",
              " \n",
              "        [[[0.8727941 , 0.8492647 , 0.7943627 ],\n",
              "          [0.627451  , 0.59313726, 0.5568628 ],\n",
              "          [0.60612744, 0.5512255 , 0.5473039 ],\n",
              "          ...,\n",
              "          [0.39093137, 0.3634804 , 0.33995098],\n",
              "          [0.38897058, 0.35563725, 0.33504903],\n",
              "          [0.3990196 , 0.36372548, 0.34411764]],\n",
              " \n",
              "         [[0.8982843 , 0.8776961 , 0.81985295],\n",
              "          [0.62647057, 0.5980392 , 0.5568628 ],\n",
              "          [0.6073529 , 0.55245095, 0.54509807],\n",
              "          ...,\n",
              "          [0.39754903, 0.37009802, 0.3465686 ],\n",
              "          [0.4007353 , 0.3732843 , 0.3497549 ],\n",
              "          [0.38431373, 0.35686275, 0.33333334]],\n",
              " \n",
              "         [[0.87647057, 0.87058824, 0.8009804 ],\n",
              "          [0.6127451 , 0.59093136, 0.54313725],\n",
              "          [0.61691177, 0.5620098 , 0.5502451 ],\n",
              "          ...,\n",
              "          [0.3767157 , 0.35367647, 0.33014706],\n",
              "          [0.40245098, 0.375     , 0.3514706 ],\n",
              "          [0.39117646, 0.36372548, 0.34019607]],\n",
              " \n",
              "         ...,\n",
              " \n",
              "         [[0.10318627, 0.14436275, 0.12965687],\n",
              "          [0.09779412, 0.1382353 , 0.12622549],\n",
              "          [0.10318627, 0.14142157, 0.1375    ],\n",
              "          ...,\n",
              "          [0.2723039 , 0.23088235, 0.19632353],\n",
              "          [0.27818626, 0.22794117, 0.19632353],\n",
              "          [0.25931373, 0.20833333, 0.18480392]],\n",
              " \n",
              "         [[0.13970588, 0.18088235, 0.16617647],\n",
              "          [0.10514706, 0.14632353, 0.13210784],\n",
              "          [0.10710784, 0.14387254, 0.1377451 ],\n",
              "          ...,\n",
              "          [0.22083333, 0.18382353, 0.14852941],\n",
              "          [0.20833333, 0.16691177, 0.13235295],\n",
              "          [0.2605392 , 0.21838236, 0.1860294 ]],\n",
              " \n",
              "         [[0.06715687, 0.11421569, 0.09852941],\n",
              "          [0.09754902, 0.14460784, 0.12892157],\n",
              "          [0.09607843, 0.13725491, 0.13039216],\n",
              "          ...,\n",
              "          [0.22156863, 0.18627451, 0.1509804 ],\n",
              "          [0.23946078, 0.20122549, 0.16593137],\n",
              "          [0.22941177, 0.19019608, 0.15490197]]]], dtype=float32),\n",
              " array([1., 1., 1., 0., 0., 1., 1., 0., 1., 0., 0., 1., 0., 1., 0., 1.],\n",
              "       dtype=float32))"
            ]
          },
          "metadata": {},
          "execution_count": 22
        }
      ]
    },
    {
      "cell_type": "code",
      "source": [
        "len(train_sample[0])"
      ],
      "metadata": {
        "colab": {
          "base_uri": "https://localhost:8080/"
        },
        "id": "0NNmKR57F1DR",
        "outputId": "766f192b-f0fa-4c9c-e650-c9f3be106f32"
      },
      "execution_count": 23,
      "outputs": [
        {
          "output_type": "execute_result",
          "data": {
            "text/plain": [
              "16"
            ]
          },
          "metadata": {},
          "execution_count": 23
        }
      ]
    },
    {
      "cell_type": "code",
      "source": [
        "#testing partition\n",
        "test_data = data.skip(round(len(data)*.7))\n",
        "test_data = test_data.take(round(len(data)*.3))\n",
        "test_data = test_data.batch(16)\n",
        "test_data = test_data.prefetch(8)"
      ],
      "metadata": {
        "id": "eCYrPswNGQzc"
      },
      "execution_count": 24,
      "outputs": []
    },
    {
      "cell_type": "code",
      "source": [
        "def make_embedding():\n",
        "  inp = Input(shape=(100,100,3), name='input image')\n",
        "\n",
        "  #First block\n",
        "  c1 = Conv2D(64, (10,10), activation='relu')(inp)\n",
        "  m1 = MaxPooling2D(64, (2,2), padding='same')(c1)\n",
        "\n",
        "  #Second block\n",
        "  c2 = Conv2D(128, (7,7), activation='relu')(m1)\n",
        "  m2 = MaxPooling2D(64, (2,2), padding='same')(c2)\n",
        "\n",
        "  #Third block\n",
        "  c3 = Conv2D(128, (4,4), activation='relu')(m2)\n",
        "  m3 = MaxPooling2D(64, (2,2), padding='same')(c3)\n",
        "\n",
        "  #Final Embedding block\n",
        "  c4 = Conv2D(256, (4,4), activation='relu')(m3)\n",
        "  f1 = Flatten()(c4)\n",
        "  d1 = Dense(4096, activation='sigmoid')(f1)\n",
        "\n",
        "  return Model(inputs=[inp], outputs=[d1], name='embedding')"
      ],
      "metadata": {
        "id": "NxLgXPL3Gwfp"
      },
      "execution_count": 25,
      "outputs": []
    },
    {
      "cell_type": "code",
      "source": [
        "embedding = make_embedding()"
      ],
      "metadata": {
        "id": "CaSkbDx60pt5"
      },
      "execution_count": 32,
      "outputs": []
    },
    {
      "cell_type": "code",
      "source": [
        "embedding.summary()"
      ],
      "metadata": {
        "colab": {
          "base_uri": "https://localhost:8080/"
        },
        "id": "gdcWx5So0ziY",
        "outputId": "569efe64-57d1-4978-e5ff-a50636d6e329"
      },
      "execution_count": 33,
      "outputs": [
        {
          "output_type": "stream",
          "name": "stdout",
          "text": [
            "Model: \"embedding\"\n",
            "_________________________________________________________________\n",
            " Layer (type)                Output Shape              Param #   \n",
            "=================================================================\n",
            " input image (InputLayer)    [(None, 100, 100, 3)]     0         \n",
            "                                                                 \n",
            " conv2d_4 (Conv2D)           (None, 91, 91, 64)        19264     \n",
            "                                                                 \n",
            " max_pooling2d_3 (MaxPooling  (None, 46, 46, 64)       0         \n",
            " 2D)                                                             \n",
            "                                                                 \n",
            " conv2d_5 (Conv2D)           (None, 40, 40, 128)       401536    \n",
            "                                                                 \n",
            " max_pooling2d_4 (MaxPooling  (None, 20, 20, 128)      0         \n",
            " 2D)                                                             \n",
            "                                                                 \n",
            " conv2d_6 (Conv2D)           (None, 17, 17, 128)       262272    \n",
            "                                                                 \n",
            " max_pooling2d_5 (MaxPooling  (None, 9, 9, 128)        0         \n",
            " 2D)                                                             \n",
            "                                                                 \n",
            " conv2d_7 (Conv2D)           (None, 6, 6, 256)         524544    \n",
            "                                                                 \n",
            " flatten_1 (Flatten)         (None, 9216)              0         \n",
            "                                                                 \n",
            " dense_1 (Dense)             (None, 4096)              37752832  \n",
            "                                                                 \n",
            "=================================================================\n",
            "Total params: 38,960,448\n",
            "Trainable params: 38,960,448\n",
            "Non-trainable params: 0\n",
            "_________________________________________________________________\n"
          ]
        }
      ]
    },
    {
      "cell_type": "code",
      "source": [
        "#Siamese L1 Distance class\n",
        "class L1Dist(Layer):\n",
        "  \n",
        "  #Init method - inheritance\n",
        "  def __init__(self, **kwargs):\n",
        "    super().__init__()\n",
        "\n",
        "  #Similarity calculation\n",
        "  def call(self, input_embedding, validation_embedding):\n",
        "    return tf.math.abs(input_embedding - validation_embedding)"
      ],
      "metadata": {
        "id": "J_4qxSKV01Ob"
      },
      "execution_count": 30,
      "outputs": []
    },
    {
      "cell_type": "code",
      "source": [
        "l1 = L1Dist()"
      ],
      "metadata": {
        "id": "3JUp0tHb36Rt"
      },
      "execution_count": 31,
      "outputs": []
    },
    {
      "cell_type": "code",
      "source": [
        "def make_siamese_model():\n",
        "\n",
        "  #Anchor img input into the network\n",
        "  input_img = Input(name='input_img', shape=(100,100,3))\n",
        "\n",
        "  #Validation img in the network\n",
        "  validation_img = Input(name='validation_img', shape=(100,100,3))\n",
        "\n",
        "  #Combine siamese distance components\n",
        "  siamese_layer = L1Dist()\n",
        "  siamese_layer._name = 'distance'\n",
        "  distances = siamese_layer(embedding(input_img), embedding(validation_img))\n",
        "\n",
        "  #classification layer\n",
        "  classifier = Dense(1, activation='sigmoid')(distances)\n",
        "\n",
        "  return Model(inputs=[input_img, validation_img], outputs=classifier, name='Siamese_Network')"
      ],
      "metadata": {
        "id": "TH8EOr4D39Nx"
      },
      "execution_count": 34,
      "outputs": []
    },
    {
      "cell_type": "code",
      "source": [
        ""
      ],
      "metadata": {
        "id": "EBfwJo-d79SJ"
      },
      "execution_count": null,
      "outputs": []
    }
  ]
}